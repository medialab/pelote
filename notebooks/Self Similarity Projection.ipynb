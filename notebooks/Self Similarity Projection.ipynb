{
 "cells": [
  {
   "cell_type": "code",
   "execution_count": 1,
   "id": "1c87ef73-8034-449a-9204-89799367dec8",
   "metadata": {},
   "outputs": [],
   "source": [
    "# Some path wizardry to make python acknowledge relative paths, just ignore this part...\n",
    "import sys; sys.path.append('..')\n",
    "import json\n",
    "import networkx as nx\n",
    "from ipysigma import Sigma\n",
    "from pelote import read_graphology_json, graph_to_edges_dataframe, global_threshold_sparsification, multiscale_backbone\n",
    "from pelote.projection import self_similarity_projection"
   ]
  },
  {
   "cell_type": "code",
   "execution_count": 2,
   "id": "14e3e54b-f6ec-4d5a-b16a-1415a0b0fe98",
   "metadata": {},
   "outputs": [],
   "source": [
    "with open('../data/polarisation.json') as f:\n",
    "    graph = read_graphology_json(f)"
   ]
  },
  {
   "cell_type": "code",
   "execution_count": 3,
   "id": "31c15b3b-d26f-4240-8499-328b720478a9",
   "metadata": {},
   "outputs": [
    {
     "data": {
      "application/vnd.jupyter.widget-view+json": {
       "model_id": "3429f0ace5fe4aaa8fe86089f5a7f9a2",
       "version_major": 2,
       "version_minor": 0
      },
      "text/plain": [
       "Sigma(nx.DiGraph with 420 nodes and 20,935 edges)"
      ]
     },
     "metadata": {},
     "output_type": "display_data"
    }
   ],
   "source": [
    "Sigma(graph, node_metrics=['louvain'], node_color='louvain', node_size=graph.in_degree)"
   ]
  },
  {
   "cell_type": "code",
   "execution_count": 4,
   "id": "199ee157-7ce1-4d0b-9519-8a5cb9c1ba2e",
   "metadata": {},
   "outputs": [],
   "source": [
    "projected = self_similarity_projection(graph)"
   ]
  },
  {
   "cell_type": "code",
   "execution_count": 5,
   "id": "db8dbad1-4002-4e90-b70d-35001643cd93",
   "metadata": {},
   "outputs": [
    {
     "data": {
      "text/plain": [
       "(420, 86188, 0.9795204000454597, 0.11896238208887373)"
      ]
     },
     "execution_count": 5,
     "metadata": {},
     "output_type": "execute_result"
    }
   ],
   "source": [
    "projected.order(), projected.size(), nx.density(projected), nx.density(graph)"
   ]
  },
  {
   "cell_type": "code",
   "execution_count": 6,
   "id": "421b279e-235c-4470-8ebf-ec849b2b4e50",
   "metadata": {},
   "outputs": [
    {
     "data": {
      "text/plain": [
       "<AxesSubplot:ylabel='Frequency'>"
      ]
     },
     "execution_count": 6,
     "metadata": {},
     "output_type": "execute_result"
    },
    {
     "data": {
      "image/png": "[encoded data removed]",
      "text/plain": [
       "<Figure size 432x288 with 1 Axes>"
      ]
     },
     "metadata": {
      "needs_background": "light"
     },
     "output_type": "display_data"
    }
   ],
   "source": [
    "graph_to_edges_dataframe(projected).weight.plot.hist()"
   ]
  },
  {
   "cell_type": "code",
   "execution_count": 7,
   "id": "9ad12a50-c471-4030-ae08-d2a23a792eb8",
   "metadata": {},
   "outputs": [
    {
     "data": {
      "application/vnd.jupyter.widget-view+json": {
       "model_id": "53a58420e6f74d0bb0b2073606e8459b",
       "version_major": 2,
       "version_minor": 0
      },
      "text/plain": [
       "Sigma(nx.Graph with 420 nodes and 86,188 edges)"
      ]
     },
     "metadata": {},
     "output_type": "display_data"
    }
   ],
   "source": [
    "Sigma(projected, node_metrics=['louvain'], node_color='louvain', node_size=graph.degree, edge_size='weight')"
   ]
  },
  {
   "cell_type": "code",
   "execution_count": 8,
   "id": "32ef053d-1305-4925-83c4-38783021f923",
   "metadata": {},
   "outputs": [
    {
     "data": {
      "application/vnd.jupyter.widget-view+json": {
       "model_id": "58b8e433d4b84c1d872e531e01950b26",
       "version_major": 2,
       "version_minor": 0
      },
      "text/plain": [
       "Sigma(nx.Graph with 420 nodes and 4,327 edges)"
      ]
     },
     "metadata": {},
     "output_type": "display_data"
    }
   ],
   "source": [
    "Sigma(global_threshold_sparsification(projected, 0.3), node_metrics=['louvain'], node_color='louvain', node_size=graph.degree, edge_size='weight')"
   ]
  },
  {
   "cell_type": "code",
   "execution_count": 10,
   "id": "05156dc6-4555-4756-831b-a22f82e701fd",
   "metadata": {},
   "outputs": [
    {
     "data": {
      "application/vnd.jupyter.widget-view+json": {
       "model_id": "537ec0b9d83245688e67550612cda84d",
       "version_major": 2,
       "version_minor": 0
      },
      "text/plain": [
       "Sigma(nx.Graph with 420 nodes and 2,265 edges)"
      ]
     },
     "metadata": {},
     "output_type": "display_data"
    }
   ],
   "source": [
    "Sigma(multiscale_backbone(projected, 0.1), node_metrics=['louvain'], node_color='louvain', node_size=graph.degree, edge_size='weight')"
   ]
  }
 ],
 "metadata": {
  "kernelspec": {
   "display_name": "Python 3",
   "language": "python",
   "name": "python3"
  },
  "language_info": {
   "codemirror_mode": {
    "name": "ipython",
    "version": 3
   },
   "file_extension": ".py",
   "mimetype": "text/x-python",
   "name": "python",
   "nbconvert_exporter": "python",
   "pygments_lexer": "ipython3",
   "version": "3.6.12"
  }
 },
 "nbformat": 4,
 "nbformat_minor": 5
}
