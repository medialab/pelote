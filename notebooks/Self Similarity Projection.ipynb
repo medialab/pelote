{
 "cells": [
  {
   "cell_type": "code",
   "execution_count": 1,
   "id": "1c87ef73-8034-449a-9204-89799367dec8",
   "metadata": {},
   "outputs": [],
   "source": [
    "# Some path wizardry to make python acknowledge relative paths, just ignore this part...\n",
    "import sys; sys.path.append('..')\n",
    "import json\n",
    "import networkx as nx\n",
    "from ipywidgets import HBox, VBox\n",
    "from ipysigma import Sigma\n",
    "from pelote import read_graphology_json, graph_to_edges_dataframe, global_threshold_sparsification, multiscale_backbone\n",
    "from pelote.projection import self_similarity_projection"
   ]
  },
  {
   "cell_type": "code",
   "execution_count": 2,
   "id": "14e3e54b-f6ec-4d5a-b16a-1415a0b0fe98",
   "metadata": {},
   "outputs": [],
   "source": [
    "with open('../data/polarisation.json') as f:\n",
    "    graph = read_graphology_json(f)"
   ]
  },
  {
   "cell_type": "code",
   "execution_count": 3,
   "id": "43bab1b0-7f14-4e46-9c26-044c356d3754",
   "metadata": {},
   "outputs": [
    {
     "data": {
      "application/vnd.jupyter.widget-view+json": {
       "model_id": "c6a4c3c5aa0f497487e9dfa8a9fb4d48",
       "version_major": 2,
       "version_minor": 0
      },
      "text/plain": [
       "Sigma(nx.DiGraph with 420 nodes and 20,935 edges)"
      ]
     },
     "metadata": {},
     "output_type": "display_data"
    }
   ],
   "source": [
    "Sigma(graph, node_metrics=['louvain'], node_color='louvain', node_size=graph.in_degree)"
   ]
  },
  {
   "cell_type": "code",
   "execution_count": 4,
   "id": "199ee157-7ce1-4d0b-9519-8a5cb9c1ba2e",
   "metadata": {},
   "outputs": [],
   "source": [
    "projected = self_similarity_projection(graph)"
   ]
  },
  {
   "cell_type": "code",
   "execution_count": 5,
   "id": "db8dbad1-4002-4e90-b70d-35001643cd93",
   "metadata": {},
   "outputs": [
    {
     "data": {
      "text/plain": [
       "(420, 86188, 0.9795204000454597, 0.11896238208887373)"
      ]
     },
     "execution_count": 5,
     "metadata": {},
     "output_type": "execute_result"
    }
   ],
   "source": [
    "projected.order(), projected.size(), nx.density(projected), nx.density(graph)"
   ]
  },
  {
   "cell_type": "code",
   "execution_count": 13,
   "id": "4fb12338-c24d-43e8-ae47-82c96bbd6f08",
   "metadata": {},
   "outputs": [],
   "source": [
    "edges_df = graph_to_edges_dataframe(projected)"
   ]
  },
  {
   "cell_type": "code",
   "execution_count": 14,
   "id": "421b279e-235c-4470-8ebf-ec849b2b4e50",
   "metadata": {},
   "outputs": [
    {
     "data": {
      "text/plain": [
       "<AxesSubplot:ylabel='Frequency'>"
      ]
     },
     "execution_count": 14,
     "metadata": {},
     "output_type": "execute_result"
    },
    {
     "data": {
      "image/png": "[encoded data removed]",
      "text/plain": [
       "<Figure size 432x288 with 1 Axes>"
      ]
     },
     "metadata": {
      "needs_background": "light"
     },
     "output_type": "display_data"
    }
   ],
   "source": [
    "edges_df.weight.plot.hist()"
   ]
  },
  {
   "cell_type": "code",
   "execution_count": 15,
   "id": "3acdbdd4-3e3d-4b82-8a04-fb9a75629fd5",
   "metadata": {},
   "outputs": [
    {
     "data": {
      "text/plain": [
       "(0.0020876826722338203, 0.690176322418136)"
      ]
     },
     "execution_count": 15,
     "metadata": {},
     "output_type": "execute_result"
    }
   ],
   "source": [
    "edges_df.weight.min(), edges_df.weight.max()"
   ]
  },
  {
   "cell_type": "code",
   "execution_count": 7,
   "id": "9ad12a50-c471-4030-ae08-d2a23a792eb8",
   "metadata": {},
   "outputs": [
    {
     "data": {
      "application/vnd.jupyter.widget-view+json": {
       "model_id": "55b9bc0f4d504b249dd800d0c5246b6e",
       "version_major": 2,
       "version_minor": 0
      },
      "text/plain": [
       "Sigma(nx.Graph with 420 nodes and 86,188 edges)"
      ]
     },
     "metadata": {},
     "output_type": "display_data"
    }
   ],
   "source": [
    "p1 = Sigma(projected, node_metrics=['louvain'], node_color='louvain', node_size=graph.degree, edge_size='weight', layout_settings={'weightedMass': True}, label_density=10)\n",
    "p1"
   ]
  },
  {
   "cell_type": "code",
   "execution_count": 8,
   "id": "32ef053d-1305-4925-83c4-38783021f923",
   "metadata": {},
   "outputs": [
    {
     "data": {
      "application/vnd.jupyter.widget-view+json": {
       "model_id": "22a7619cec444356b575047be557857d",
       "version_major": 2,
       "version_minor": 0
      },
      "text/plain": [
       "Sigma(nx.Graph with 420 nodes and 4,454 edges)"
      ]
     },
     "metadata": {},
     "output_type": "display_data"
    }
   ],
   "source": [
    "p2 = Sigma(global_threshold_sparsification(projected, 0.3), node_metrics=['louvain'], node_color='louvain', node_size=graph.degree, edge_size='weight')\n",
    "p2"
   ]
  },
  {
   "cell_type": "code",
   "execution_count": 9,
   "id": "05156dc6-4555-4756-831b-a22f82e701fd",
   "metadata": {},
   "outputs": [
    {
     "data": {
      "application/vnd.jupyter.widget-view+json": {
       "model_id": "58bb4fa90bc44ab39240266a6599fb16",
       "version_major": 2,
       "version_minor": 0
      },
      "text/plain": [
       "Sigma(nx.Graph with 420 nodes and 2,287 edges)"
      ]
     },
     "metadata": {},
     "output_type": "display_data"
    }
   ],
   "source": [
    "p3 = Sigma(multiscale_backbone(projected, 0.1), node_metrics=['louvain'], node_color='louvain', node_size=graph.degree, edge_size='weight')\n",
    "p3"
   ]
  },
  {
   "cell_type": "code",
   "execution_count": 22,
   "id": "f121372c-d8a5-4917-97a4-9c6893dede06",
   "metadata": {},
   "outputs": [
    {
     "data": {
      "application/vnd.jupyter.widget-view+json": {
       "model_id": "36aacaeed3b04004a4400b615a0a9108",
       "version_major": 2,
       "version_minor": 0
      },
      "text/plain": [
       "HBox(children=(Sigma(nx.DiGraph with 420 nodes and 20,935 edges), Sigma(nx.DiGraph with 420 nodes and 20,935 e…"
      ]
     },
     "metadata": {},
     "output_type": "display_data"
    }
   ],
   "source": [
    "widgets = [\n",
    "    Sigma(graph, node_metrics=['louvain'], node_color='louvain', node_size=graph.in_degree, sync_key='polarisation'),\n",
    "    Sigma(graph, node_color='wheel_category', node_size=graph.in_degree, sync_key='polarisation'),\n",
    "    Sigma(graph, node_color=p1.node_metrics['louvain']['result'], node_size=graph.in_degree, sync_key='polarisation')\n",
    "]\n",
    "HBox(widgets)"
   ]
  }
 ],
 "metadata": {
  "kernelspec": {
   "display_name": "Python 3",
   "language": "python",
   "name": "python3"
  },
  "language_info": {
   "codemirror_mode": {
    "name": "ipython",
    "version": 3
   },
   "file_extension": ".py",
   "mimetype": "text/x-python",
   "name": "python",
   "nbconvert_exporter": "python",
   "pygments_lexer": "ipython3",
   "version": "3.6.10"
  }
 },
 "nbformat": 4,
 "nbformat_minor": 5
}
