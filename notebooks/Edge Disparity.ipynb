{
 "cells": [
  {
   "cell_type": "markdown",
   "id": "0e580153-23f0-4b98-916a-f1d1b1a0330f",
   "metadata": {},
   "source": [
    "# Edge Disparity Tests"
   ]
  },
  {
   "cell_type": "code",
   "execution_count": 1,
   "id": "b1eb5c4a-8f42-4600-a99c-34e9db45cf35",
   "metadata": {},
   "outputs": [],
   "source": [
    "# Some path wizardry to make python acknowledge relative paths, just ignore this part...\n",
    "import sys; sys.path.append('..')\n",
    "import csv\n",
    "import networkx as nx\n",
    "from ipysigma import Sigma\n",
    "from pelote import (\n",
    "    table_to_bipartite_graph,\n",
    "    monopartite_projection,\n",
    "    edge_disparity,\n",
    "    global_threshold_sparsification,\n",
    "    graph_to_edges_dataframe,\n",
    "    filter_edges,\n",
    "    floatsam_threshold_learner\n",
    ")"
   ]
  },
  {
   "cell_type": "code",
   "execution_count": 4,
   "id": "e048a71d-594b-42a9-91c2-946e5d130982",
   "metadata": {},
   "outputs": [],
   "source": [
    "with open('../data/bipartite1.csv') as f:\n",
    "    bipartite = table_to_bipartite_graph(csv.DictReader(f), 'account', 'url')"
   ]
  },
  {
   "cell_type": "code",
   "execution_count": 5,
   "id": "281c6e59-f9f6-4f8e-b247-ced0ab0a7373",
   "metadata": {},
   "outputs": [],
   "source": [
    "monopartite = monopartite_projection(bipartite, 'account', metric='jaccard')"
   ]
  },
  {
   "cell_type": "code",
   "execution_count": 6,
   "id": "2c512621-0534-4d0b-aef9-2169f5b59fc3",
   "metadata": {},
   "outputs": [
    {
     "data": {
      "text/plain": [
       "0.13238257655915675"
      ]
     },
     "execution_count": 6,
     "metadata": {},
     "output_type": "execute_result"
    }
   ],
   "source": [
    "nx.density(monopartite)"
   ]
  },
  {
   "cell_type": "code",
   "execution_count": 7,
   "id": "18f8c534-0b79-4ff2-9882-1d0f0ba9ae53",
   "metadata": {},
   "outputs": [],
   "source": [
    "d = edge_disparity(monopartite)"
   ]
  },
  {
   "cell_type": "code",
   "execution_count": 8,
   "id": "f12cd300-4d1e-4bf1-ad2c-159b71b8ac22",
   "metadata": {},
   "outputs": [],
   "source": [
    "nx.set_edge_attributes(monopartite, d, 'disparity')"
   ]
  },
  {
   "cell_type": "code",
   "execution_count": 9,
   "id": "70514791-db06-4980-8226-d94d9d6f0f64",
   "metadata": {},
   "outputs": [
    {
     "data": {
      "text/html": [
       "<div>\n",
       "<style scoped>\n",
       "    .dataframe tbody tr th:only-of-type {\n",
       "        vertical-align: middle;\n",
       "    }\n",
       "\n",
       "    .dataframe tbody tr th {\n",
       "        vertical-align: top;\n",
       "    }\n",
       "\n",
       "    .dataframe thead th {\n",
       "        text-align: right;\n",
       "    }\n",
       "</style>\n",
       "<table border=\"1\" class=\"dataframe\">\n",
       "  <thead>\n",
       "    <tr style=\"text-align: right;\">\n",
       "      <th></th>\n",
       "      <th>source</th>\n",
       "      <th>target</th>\n",
       "      <th>weight</th>\n",
       "      <th>disparity</th>\n",
       "    </tr>\n",
       "  </thead>\n",
       "  <tbody>\n",
       "    <tr>\n",
       "      <th>0</th>\n",
       "      <td>0</td>\n",
       "      <td>2</td>\n",
       "      <td>0.083333</td>\n",
       "      <td>0.220927</td>\n",
       "    </tr>\n",
       "    <tr>\n",
       "      <th>1</th>\n",
       "      <td>0</td>\n",
       "      <td>3</td>\n",
       "      <td>0.090909</td>\n",
       "      <td>0.263974</td>\n",
       "    </tr>\n",
       "    <tr>\n",
       "      <th>2</th>\n",
       "      <td>0</td>\n",
       "      <td>4</td>\n",
       "      <td>0.062500</td>\n",
       "      <td>0.400665</td>\n",
       "    </tr>\n",
       "    <tr>\n",
       "      <th>3</th>\n",
       "      <td>0</td>\n",
       "      <td>5</td>\n",
       "      <td>0.090909</td>\n",
       "      <td>0.263974</td>\n",
       "    </tr>\n",
       "    <tr>\n",
       "      <th>4</th>\n",
       "      <td>0</td>\n",
       "      <td>147</td>\n",
       "      <td>0.083333</td>\n",
       "      <td>0.295072</td>\n",
       "    </tr>\n",
       "    <tr>\n",
       "      <th>...</th>\n",
       "      <td>...</td>\n",
       "      <td>...</td>\n",
       "      <td>...</td>\n",
       "      <td>...</td>\n",
       "    </tr>\n",
       "    <tr>\n",
       "      <th>95708</th>\n",
       "      <td>1861</td>\n",
       "      <td>1905</td>\n",
       "      <td>0.200000</td>\n",
       "      <td>0.078166</td>\n",
       "    </tr>\n",
       "    <tr>\n",
       "      <th>95709</th>\n",
       "      <td>1861</td>\n",
       "      <td>1896</td>\n",
       "      <td>0.083333</td>\n",
       "      <td>0.347533</td>\n",
       "    </tr>\n",
       "    <tr>\n",
       "      <th>95710</th>\n",
       "      <td>1890</td>\n",
       "      <td>1891</td>\n",
       "      <td>0.125000</td>\n",
       "      <td>0.249025</td>\n",
       "    </tr>\n",
       "    <tr>\n",
       "      <th>95711</th>\n",
       "      <td>1890</td>\n",
       "      <td>1938</td>\n",
       "      <td>0.125000</td>\n",
       "      <td>0.258497</td>\n",
       "    </tr>\n",
       "    <tr>\n",
       "      <th>95712</th>\n",
       "      <td>1896</td>\n",
       "      <td>1905</td>\n",
       "      <td>0.125000</td>\n",
       "      <td>0.248359</td>\n",
       "    </tr>\n",
       "  </tbody>\n",
       "</table>\n",
       "<p>95713 rows × 4 columns</p>\n",
       "</div>"
      ],
      "text/plain": [
       "       source  target    weight  disparity\n",
       "0           0       2  0.083333   0.220927\n",
       "1           0       3  0.090909   0.263974\n",
       "2           0       4  0.062500   0.400665\n",
       "3           0       5  0.090909   0.263974\n",
       "4           0     147  0.083333   0.295072\n",
       "...       ...     ...       ...        ...\n",
       "95708    1861    1905  0.200000   0.078166\n",
       "95709    1861    1896  0.083333   0.347533\n",
       "95710    1890    1891  0.125000   0.249025\n",
       "95711    1890    1938  0.125000   0.258497\n",
       "95712    1896    1905  0.125000   0.248359\n",
       "\n",
       "[95713 rows x 4 columns]"
      ]
     },
     "execution_count": 9,
     "metadata": {},
     "output_type": "execute_result"
    }
   ],
   "source": [
    "df = graph_to_edges_dataframe(monopartite)\n",
    "df"
   ]
  },
  {
   "cell_type": "code",
   "execution_count": 10,
   "id": "0c7203d4-7de4-4be7-a47d-c49c9095d6d6",
   "metadata": {},
   "outputs": [
    {
     "data": {
      "text/plain": [
       "<AxesSubplot: ylabel='Frequency'>"
      ]
     },
     "execution_count": 10,
     "metadata": {},
     "output_type": "execute_result"
    },
    {
     "data": {
      "image/png": "[encoded data removed]",
      "text/plain": [
       "<Figure size 640x480 with 1 Axes>"
      ]
     },
     "metadata": {},
     "output_type": "display_data"
    }
   ],
   "source": [
    "df.weight.plot.hist()"
   ]
  },
  {
   "cell_type": "code",
   "execution_count": 12,
   "id": "e5516b05-74b9-481b-8025-7493249f6ba2",
   "metadata": {},
   "outputs": [
    {
     "data": {
      "text/plain": [
       "<AxesSubplot: ylabel='Frequency'>"
      ]
     },
     "execution_count": 12,
     "metadata": {},
     "output_type": "execute_result"
    },
    {
     "data": {
      "image/png": "[encoded data removed]",
      "text/plain": [
       "<Figure size 640x480 with 1 Axes>"
      ]
     },
     "metadata": {},
     "output_type": "display_data"
    }
   ],
   "source": [
    "df.disparity.plot.hist()"
   ]
  },
  {
   "cell_type": "code",
   "execution_count": 13,
   "id": "98d3a343-62f8-48d6-b860-dc76404eafef",
   "metadata": {},
   "outputs": [
    {
     "data": {
      "text/plain": [
       "count    95713.000000\n",
       "mean         0.354853\n",
       "std          0.136651\n",
       "min          0.000013\n",
       "25%          0.270572\n",
       "50%          0.356349\n",
       "75%          0.445207\n",
       "max          0.759124\n",
       "Name: disparity, dtype: float64"
      ]
     },
     "execution_count": 13,
     "metadata": {},
     "output_type": "execute_result"
    }
   ],
   "source": [
    "df.disparity.describe()"
   ]
  },
  {
   "cell_type": "code",
   "execution_count": 14,
   "id": "69ce871a-21fb-4e28-8850-d6b44ce9b363",
   "metadata": {},
   "outputs": [],
   "source": [
    "sparse = filter_edges(monopartite, lambda u, v, a: a['disparity'] <= 0.05)"
   ]
  },
  {
   "cell_type": "code",
   "execution_count": 15,
   "id": "6a2cfbfb-8495-4fd6-add4-1257d1e938db",
   "metadata": {},
   "outputs": [
    {
     "data": {
      "text/plain": [
       "0.0016265492674304256"
      ]
     },
     "execution_count": 15,
     "metadata": {},
     "output_type": "execute_result"
    }
   ],
   "source": [
    "nx.density(sparse)"
   ]
  },
  {
   "cell_type": "code",
   "execution_count": 16,
   "id": "ce0b9526-4c3d-4f80-bfc8-d6f7c6a075a6",
   "metadata": {},
   "outputs": [
    {
     "data": {
      "application/vnd.jupyter.widget-view+json": {
       "model_id": "44f4bca78d5e4554813d1026df7e6813",
       "version_major": 2,
       "version_minor": 0
      },
      "text/plain": [
       "Sigma(nx.Graph with 1,203 nodes and 1,176 edges)"
      ]
     },
     "execution_count": 16,
     "metadata": {},
     "output_type": "execute_result"
    }
   ],
   "source": [
    "Sigma(sparse)"
   ]
  },
  {
   "cell_type": "code",
   "execution_count": 17,
   "id": "84080e6a-d185-4046-970a-6e14517f52f8",
   "metadata": {},
   "outputs": [],
   "source": [
    "nx.set_edge_attributes(monopartite, {(u, v): 1.0 - a['disparity'] for u, v, a in monopartite.edges.data()}, 'reverse_disparity')"
   ]
  },
  {
   "cell_type": "code",
   "execution_count": 18,
   "id": "ab739fc9-d344-42c3-ab97-af4a6fbf20c1",
   "metadata": {},
   "outputs": [
    {
     "data": {
      "text/plain": [
       "(0,\n",
       " 2,\n",
       " {'weight': 0.08333333333333333,\n",
       "  'disparity': 0.22092723767997471,\n",
       "  'reverse_disparity': 0.7790727623200253})"
      ]
     },
     "execution_count": 18,
     "metadata": {},
     "output_type": "execute_result"
    }
   ],
   "source": [
    "next(iter(monopartite.edges.data()))"
   ]
  },
  {
   "cell_type": "code",
   "execution_count": 19,
   "id": "cb9ce8f4-3daa-48dc-a80b-c35dff62e0b3",
   "metadata": {},
   "outputs": [
    {
     "data": {
      "text/plain": [
       "0.9300000000000006"
      ]
     },
     "execution_count": 19,
     "metadata": {},
     "output_type": "execute_result"
    }
   ],
   "source": [
    "threshold = floatsam_threshold_learner(monopartite, edge_weight_attr='reverse_disparity')\n",
    "threshold"
   ]
  },
  {
   "cell_type": "code",
   "execution_count": 20,
   "id": "67814f98-40d7-492b-a654-ebf98187a45d",
   "metadata": {},
   "outputs": [],
   "source": [
    "sparse_per_floatsam = filter_edges(monopartite, lambda u, v, a: a['disparity'] <= 1 - threshold)"
   ]
  },
  {
   "cell_type": "code",
   "execution_count": 21,
   "id": "9738263a-4098-45e0-8298-d0d32f8cfe0b",
   "metadata": {},
   "outputs": [
    {
     "data": {
      "text/plain": [
       "0.0031382995644554726"
      ]
     },
     "execution_count": 21,
     "metadata": {},
     "output_type": "execute_result"
    }
   ],
   "source": [
    "nx.density(sparse_per_floatsam)"
   ]
  },
  {
   "cell_type": "code",
   "execution_count": 22,
   "id": "89a14beb-3b61-4c29-affc-88607a356d46",
   "metadata": {},
   "outputs": [
    {
     "data": {
      "application/vnd.jupyter.widget-view+json": {
       "model_id": "872256aad6d346378d9596815932b7db",
       "version_major": 2,
       "version_minor": 0
      },
      "text/plain": [
       "Sigma(nx.Graph with 1,203 nodes and 2,269 edges)"
      ]
     },
     "execution_count": 22,
     "metadata": {},
     "output_type": "execute_result"
    }
   ],
   "source": [
    "Sigma(sparse_per_floatsam)"
   ]
  }
 ],
 "metadata": {
  "kernelspec": {
   "display_name": "Python 3 (ipykernel)",
   "language": "python",
   "name": "python3"
  },
  "language_info": {
   "codemirror_mode": {
    "name": "ipython",
    "version": 3
   },
   "file_extension": ".py",
   "mimetype": "text/x-python",
   "name": "python",
   "nbconvert_exporter": "python",
   "pygments_lexer": "ipython3",
   "version": "3.8.13"
  }
 },
 "nbformat": 4,
 "nbformat_minor": 5
}
