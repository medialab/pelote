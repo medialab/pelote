{
 "cells": [
  {
   "cell_type": "code",
   "execution_count": 1,
   "id": "04932469-9b82-4b30-a08c-c0e95a448f7f",
   "metadata": {},
   "outputs": [],
   "source": [
    "import networkx as nx\n",
    "from ipysigma import Sigma\n",
    "from pelote import union_maximum_spanning_trees, filter_edges\n",
    "from random import random"
   ]
  },
  {
   "cell_type": "code",
   "execution_count": 2,
   "id": "cd97f246-b73b-4087-9c1c-c654a453cd25",
   "metadata": {},
   "outputs": [],
   "source": [
    "g = nx.fast_gnp_random_graph(400, 0.05)\n",
    "\n",
    "for edge in g.edges:\n",
    "    g.edges[edge]['weight'] = random()\n",
    "    g.edges[edge]['umst'] = False"
   ]
  },
  {
   "cell_type": "code",
   "execution_count": 3,
   "id": "bf04d8c8-af0a-4440-bd67-ac3a7112e97e",
   "metadata": {},
   "outputs": [
    {
     "data": {
      "text/plain": [
       "(400, 3957, 0.04958646616541353)"
      ]
     },
     "execution_count": 3,
     "metadata": {},
     "output_type": "execute_result"
    }
   ],
   "source": [
    "g.order(), g.size(), nx.density(g)"
   ]
  },
  {
   "cell_type": "code",
   "execution_count": 4,
   "id": "1515966b-8eb6-41d9-96e0-951588d0f47e",
   "metadata": {},
   "outputs": [],
   "source": [
    "union_edges = union_maximum_spanning_trees(g)"
   ]
  },
  {
   "cell_type": "code",
   "execution_count": 5,
   "id": "c3fdc028-ff46-43fb-b36c-855d649d2238",
   "metadata": {},
   "outputs": [],
   "source": [
    "for edges in union_edges:\n",
    "    for edge in edges:\n",
    "        g.edges[edge[0], edge[1]]['umst'] = True"
   ]
  },
  {
   "cell_type": "code",
   "execution_count": 6,
   "id": "d4b77f91-e98a-497d-a421-012fdf45156c",
   "metadata": {},
   "outputs": [
    {
     "data": {
      "application/vnd.jupyter.widget-view+json": {
       "model_id": "0d9598c9d4584fe2bb25b1037ead8e20",
       "version_major": 2,
       "version_minor": 0
      },
      "text/plain": [
       "Sigma(nx.Graph with 400 nodes and 3,957 edges)"
      ]
     },
     "execution_count": 6,
     "metadata": {},
     "output_type": "execute_result"
    }
   ],
   "source": [
    "Sigma(g, edge_color='umst', edge_color_palette={True:'black', False:'grey'}, edge_zindex=lambda u,v,a:  1 if a['umst']==True else 0, clickable_edges=True)"
   ]
  },
  {
   "cell_type": "code",
   "execution_count": 7,
   "id": "fa0b2602-ffc2-4558-97cd-0392b2b519b4",
   "metadata": {},
   "outputs": [],
   "source": [
    "g_umst = filter_edges(g, lambda u,v,a: a['umst']==True)"
   ]
  },
  {
   "cell_type": "code",
   "execution_count": 8,
   "id": "b27003ff-200e-42e9-b5c3-38039093cd5e",
   "metadata": {},
   "outputs": [
    {
     "data": {
      "text/plain": [
       "(400, 399, 0.005)"
      ]
     },
     "execution_count": 8,
     "metadata": {},
     "output_type": "execute_result"
    }
   ],
   "source": [
    "g_umst.order(), g_umst.size(), nx.density(g_umst)"
   ]
  },
  {
   "cell_type": "code",
   "execution_count": 9,
   "id": "de4257c6-ab49-4565-81de-30bf10f67b9a",
   "metadata": {},
   "outputs": [
    {
     "data": {
      "application/vnd.jupyter.widget-view+json": {
       "model_id": "53773a2b1fd64a7e829e44a55b768563",
       "version_major": 2,
       "version_minor": 0
      },
      "text/plain": [
       "Sigma(nx.Graph with 400 nodes and 399 edges)"
      ]
     },
     "execution_count": 9,
     "metadata": {},
     "output_type": "execute_result"
    }
   ],
   "source": [
    "Sigma(g_umst, clickable_edges=True)"
   ]
  }
 ],
 "metadata": {
  "kernelspec": {
   "display_name": "Python 3 (ipykernel)",
   "language": "python",
   "name": "python3"
  },
  "language_info": {
   "codemirror_mode": {
    "name": "ipython",
    "version": 3
   },
   "file_extension": ".py",
   "mimetype": "text/x-python",
   "name": "python",
   "nbconvert_exporter": "python",
   "pygments_lexer": "ipython3",
   "version": "3.8.13"
  }
 },
 "nbformat": 4,
 "nbformat_minor": 5
}
