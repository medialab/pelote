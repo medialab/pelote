{
 "cells": [
  {
   "cell_type": "code",
   "execution_count": 1,
   "id": "04932469-9b82-4b30-a08c-c0e95a448f7f",
   "metadata": {},
   "outputs": [],
   "source": [
    "# Some path wizardry to make python acknowledge relative paths, just ignore this part...\n",
    "import sys; sys.path.append('..')\n",
    "import networkx as nx\n",
    "from ipysigma import Sigma\n",
    "from pelote import union_maximum_spanning_trees, filter_edges\n",
    "from random import random"
   ]
  },
  {
   "cell_type": "code",
   "execution_count": 2,
   "id": "c3fdc028-ff46-43fb-b36c-855d649d2238",
   "metadata": {},
   "outputs": [],
   "source": [
    "def umst_to_True(g, union_edges):\n",
    "    for edges in union_edges:\n",
    "        for edge in edges:\n",
    "            g.edges[edge[0], edge[1]]['umst'] = True\n",
    "\n",
    "    for edge in g.edges:\n",
    "        if not g.edges[edge]['umst']:\n",
    "            g.edges[edge]['weight'] = 0"
   ]
  },
  {
   "cell_type": "code",
   "execution_count": 3,
   "id": "d0bea408-ec47-450f-a3b7-713eaeb8de97",
   "metadata": {},
   "outputs": [],
   "source": [
    "def init_attr(g):\n",
    "    for edge in g.edges:\n",
    "        g.edges[edge]['weight'] = (g.degree[edge[0]] + g.degree[edge[1]]) / 2\n",
    "        g.edges[edge]['umst'] = False"
   ]
  },
  {
   "cell_type": "code",
   "execution_count": 4,
   "id": "cd97f246-b73b-4087-9c1c-c654a453cd25",
   "metadata": {},
   "outputs": [],
   "source": [
    "g = nx.fast_gnp_random_graph(400, 0.05)\n",
    "init_attr(g)"
   ]
  },
  {
   "cell_type": "code",
   "execution_count": 5,
   "id": "bf04d8c8-af0a-4440-bd67-ac3a7112e97e",
   "metadata": {},
   "outputs": [
    {
     "data": {
      "text/plain": [
       "(400, 4026, 0.05045112781954887)"
      ]
     },
     "execution_count": 5,
     "metadata": {},
     "output_type": "execute_result"
    }
   ],
   "source": [
    "g.order(), g.size(), nx.density(g)"
   ]
  },
  {
   "cell_type": "code",
   "execution_count": 6,
   "id": "56ae2abd-8714-425e-9328-8f7286c84786",
   "metadata": {},
   "outputs": [],
   "source": [
    "umst_to_True(g, union_maximum_spanning_trees(g))"
   ]
  },
  {
   "cell_type": "code",
   "execution_count": 7,
   "id": "d4b77f91-e98a-497d-a421-012fdf45156c",
   "metadata": {},
   "outputs": [
    {
     "data": {
      "application/vnd.jupyter.widget-view+json": {
       "model_id": "3542c1db0bfb4bb79df5dd86f6732940",
       "version_major": 2,
       "version_minor": 0
      },
      "text/plain": [
       "Sigma(nx.Graph with 400 nodes and 4,026 edges)"
      ]
     },
     "execution_count": 7,
     "metadata": {},
     "output_type": "execute_result"
    }
   ],
   "source": [
    "Sigma(\n",
    "    g,\n",
    "    edge_color='umst',\n",
    "    edge_color_palette={True:'black', False:'grey'},\n",
    "    edge_zindex=lambda u,v,a:  1 if a['umst']==True else 0,\n",
    "    clickable_edges=True\n",
    ")"
   ]
  },
  {
   "cell_type": "code",
   "execution_count": 8,
   "id": "fa0b2602-ffc2-4558-97cd-0392b2b519b4",
   "metadata": {},
   "outputs": [],
   "source": [
    "g_umst = filter_edges(g, lambda u,v,a: a['umst']==True)"
   ]
  },
  {
   "cell_type": "code",
   "execution_count": 9,
   "id": "b27003ff-200e-42e9-b5c3-38039093cd5e",
   "metadata": {},
   "outputs": [
    {
     "data": {
      "text/plain": [
       "(400, 464, 0.005814536340852131)"
      ]
     },
     "execution_count": 9,
     "metadata": {},
     "output_type": "execute_result"
    }
   ],
   "source": [
    "g_umst.order(), g_umst.size(), nx.density(g_umst)"
   ]
  },
  {
   "cell_type": "code",
   "execution_count": 10,
   "id": "de4257c6-ab49-4565-81de-30bf10f67b9a",
   "metadata": {},
   "outputs": [
    {
     "data": {
      "application/vnd.jupyter.widget-view+json": {
       "model_id": "c25b6fa0051c4b12b5963eaf5706676a",
       "version_major": 2,
       "version_minor": 0
      },
      "text/plain": [
       "Sigma(nx.Graph with 400 nodes and 464 edges)"
      ]
     },
     "execution_count": 10,
     "metadata": {},
     "output_type": "execute_result"
    }
   ],
   "source": [
    "Sigma(g_umst, clickable_edges=True)"
   ]
  },
  {
   "cell_type": "code",
   "execution_count": 11,
   "id": "8c725ad0-1254-4b24-920b-0440cec8c8ed",
   "metadata": {},
   "outputs": [],
   "source": [
    "g_arctic = nx.read_gexf('../data/arctic.gexf')\n",
    "init_attr(g_arctic)"
   ]
  },
  {
   "cell_type": "code",
   "execution_count": 12,
   "id": "6afe5d8a-119b-4ff7-8bcc-d44cb72d95e2",
   "metadata": {},
   "outputs": [],
   "source": [
    "umst_to_True(g_arctic, union_maximum_spanning_trees(g_arctic))"
   ]
  },
  {
   "cell_type": "code",
   "execution_count": 13,
   "id": "59f8c5d9-71b7-4f3f-8ef6-32453e599b0a",
   "metadata": {},
   "outputs": [
    {
     "data": {
      "application/vnd.jupyter.widget-view+json": {
       "model_id": "192a25b228a5429ba30c14602699137b",
       "version_major": 2,
       "version_minor": 0
      },
      "text/plain": [
       "Sigma(nx.DiGraph with 1,715 nodes and 6,676 edges)"
      ]
     },
     "execution_count": 13,
     "metadata": {},
     "output_type": "execute_result"
    }
   ],
   "source": [
    "Sigma(\n",
    "    g_arctic,\n",
    "    edge_color='umst',\n",
    "    edge_color_palette={True:'black', False:'grey'},\n",
    "    edge_zindex=lambda u,v,a:  1 if a['umst']==True else 0,\n",
    "    clickable_edges=True\n",
    ")"
   ]
  },
  {
   "cell_type": "code",
   "execution_count": 14,
   "id": "e831ac14-abfa-4156-999c-5fe392bdd86c",
   "metadata": {},
   "outputs": [],
   "source": [
    "g_rio = nx.read_gexf('../data/rio.gexf')\n",
    "init_attr(g_rio)"
   ]
  },
  {
   "cell_type": "code",
   "execution_count": 15,
   "id": "82ed4f88-5abc-41b8-bb9a-21b959d6b17a",
   "metadata": {},
   "outputs": [],
   "source": [
    "umst_to_True(g_rio, union_maximum_spanning_trees(g_rio))"
   ]
  },
  {
   "cell_type": "code",
   "execution_count": 16,
   "id": "ea1f9324-3d08-4e13-9e42-3ebe519d7d80",
   "metadata": {},
   "outputs": [
    {
     "data": {
      "application/vnd.jupyter.widget-view+json": {
       "model_id": "d7f980a4d33442de9daff98658bba2b5",
       "version_major": 2,
       "version_minor": 0
      },
      "text/plain": [
       "Sigma(nx.DiGraph with 366 nodes and 1,107 edges)"
      ]
     },
     "execution_count": 16,
     "metadata": {},
     "output_type": "execute_result"
    }
   ],
   "source": [
    "Sigma(\n",
    "    g_rio,\n",
    "    edge_color='umst',\n",
    "    edge_color_palette={True:'black', False:'grey'},\n",
    "    edge_zindex=lambda u,v,a:  1 if a['umst']==True else 0,\n",
    "    clickable_edges=True\n",
    ")"
   ]
  }
 ],
 "metadata": {
  "kernelspec": {
   "display_name": "Python 3 (ipykernel)",
   "language": "python",
   "name": "python3"
  },
  "language_info": {
   "codemirror_mode": {
    "name": "ipython",
    "version": 3
   },
   "file_extension": ".py",
   "mimetype": "text/x-python",
   "name": "python",
   "nbconvert_exporter": "python",
   "pygments_lexer": "ipython3",
   "version": "3.8.13"
  }
 },
 "nbformat": 4,
 "nbformat_minor": 5
}
