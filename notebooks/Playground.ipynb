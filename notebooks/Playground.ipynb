{
 "cells": [
  {
   "cell_type": "code",
   "execution_count": 1,
   "id": "ef383226-f0c2-4f53-bfb4-7e1ffd703724",
   "metadata": {},
   "outputs": [],
   "source": [
    "# Some path wizardry to make python acknowledge relative paths, just ignore this part...\n",
    "import sys; sys.path.append('..')\n",
    "import networkx as nx\n",
    "import pandas as pd\n",
    "from ipysigma import Sigma\n",
    "from pelote import (\n",
    "    graph_to_nodes_dataframe,\n",
    "    table_to_bipartite_graph,\n",
    "    monopartite_projection,\n",
    "    graph_to_edges_dataframe,\n",
    "    global_threshold_sparsification,\n",
    "    multiscale_backbone,\n",
    "    simmelian_backbone,\n",
    "    SimmelianBackboneSparsifier,\n",
    "    read_graphology_json\n",
    ")\n",
    "from pelote.graph import remove_edges"
   ]
  },
  {
   "cell_type": "code",
   "execution_count": 2,
   "id": "19a8b67a-eed7-4823-927c-994661fe1a18",
   "metadata": {},
   "outputs": [
    {
     "data": {
      "text/html": [
       "<div>\n",
       "<style scoped>\n",
       "    .dataframe tbody tr th:only-of-type {\n",
       "        vertical-align: middle;\n",
       "    }\n",
       "\n",
       "    .dataframe tbody tr th {\n",
       "        vertical-align: top;\n",
       "    }\n",
       "\n",
       "    .dataframe thead th {\n",
       "        text-align: right;\n",
       "    }\n",
       "</style>\n",
       "<table border=\"1\" class=\"dataframe\">\n",
       "  <thead>\n",
       "    <tr style=\"text-align: right;\">\n",
       "      <th></th>\n",
       "      <th>account</th>\n",
       "      <th>post</th>\n",
       "    </tr>\n",
       "  </thead>\n",
       "  <tbody>\n",
       "    <tr>\n",
       "      <th>0</th>\n",
       "      <td>0</td>\n",
       "      <td>0</td>\n",
       "    </tr>\n",
       "    <tr>\n",
       "      <th>1</th>\n",
       "      <td>1</td>\n",
       "      <td>0</td>\n",
       "    </tr>\n",
       "    <tr>\n",
       "      <th>2</th>\n",
       "      <td>2</td>\n",
       "      <td>0</td>\n",
       "    </tr>\n",
       "    <tr>\n",
       "      <th>3</th>\n",
       "      <td>3</td>\n",
       "      <td>0</td>\n",
       "    </tr>\n",
       "    <tr>\n",
       "      <th>4</th>\n",
       "      <td>4</td>\n",
       "      <td>0</td>\n",
       "    </tr>\n",
       "    <tr>\n",
       "      <th>...</th>\n",
       "      <td>...</td>\n",
       "      <td>...</td>\n",
       "    </tr>\n",
       "    <tr>\n",
       "      <th>36806</th>\n",
       "      <td>4173</td>\n",
       "      <td>1978</td>\n",
       "    </tr>\n",
       "    <tr>\n",
       "      <th>36807</th>\n",
       "      <td>4174</td>\n",
       "      <td>1978</td>\n",
       "    </tr>\n",
       "    <tr>\n",
       "      <th>36808</th>\n",
       "      <td>3893</td>\n",
       "      <td>1978</td>\n",
       "    </tr>\n",
       "    <tr>\n",
       "      <th>36809</th>\n",
       "      <td>776</td>\n",
       "      <td>1979</td>\n",
       "    </tr>\n",
       "    <tr>\n",
       "      <th>36810</th>\n",
       "      <td>1398</td>\n",
       "      <td>1980</td>\n",
       "    </tr>\n",
       "  </tbody>\n",
       "</table>\n",
       "<p>36811 rows × 2 columns</p>\n",
       "</div>"
      ],
      "text/plain": [
       "       account  post\n",
       "0            0     0\n",
       "1            1     0\n",
       "2            2     0\n",
       "3            3     0\n",
       "4            4     0\n",
       "...        ...   ...\n",
       "36806     4173  1978\n",
       "36807     4174  1978\n",
       "36808     3893  1978\n",
       "36809      776  1979\n",
       "36810     1398  1980\n",
       "\n",
       "[36811 rows x 2 columns]"
      ]
     },
     "execution_count": 2,
     "metadata": {},
     "output_type": "execute_result"
    }
   ],
   "source": [
    "df = pd.read_csv('../data/bipartite2.csv')\n",
    "df"
   ]
  },
  {
   "cell_type": "code",
   "execution_count": 3,
   "id": "905bf226-ff78-4db0-a029-de69aec2e97c",
   "metadata": {},
   "outputs": [],
   "source": [
    "g = table_to_bipartite_graph(df, 'account', 'post')"
   ]
  },
  {
   "cell_type": "code",
   "execution_count": 4,
   "id": "f7aa1d3a-316c-48fd-b3fa-458794be0ca4",
   "metadata": {},
   "outputs": [],
   "source": [
    "m = monopartite_projection(g, 'account', metric='cosine')"
   ]
  },
  {
   "cell_type": "code",
   "execution_count": 5,
   "id": "61d046ff-2acb-4d5e-a0eb-750dbddf3a54",
   "metadata": {},
   "outputs": [
    {
     "data": {
      "text/plain": [
       "0.2712789108985405"
      ]
     },
     "execution_count": 5,
     "metadata": {},
     "output_type": "execute_result"
    }
   ],
   "source": [
    "graph_to_edges_dataframe(m)['weight'].mean()"
   ]
  },
  {
   "cell_type": "code",
   "execution_count": 6,
   "id": "ff1ba024-03e3-40ba-af8b-896ab9ba521d",
   "metadata": {},
   "outputs": [],
   "source": [
    "remove_edges(m, lambda u, v, a: a['weight'] > 0.25)"
   ]
  },
  {
   "cell_type": "code",
   "execution_count": 7,
   "id": "7a779553-bd72-49cf-ae60-16b958801ef9",
   "metadata": {},
   "outputs": [
    {
     "data": {
      "text/html": [
       "<div>\n",
       "<style scoped>\n",
       "    .dataframe tbody tr th:only-of-type {\n",
       "        vertical-align: middle;\n",
       "    }\n",
       "\n",
       "    .dataframe tbody tr th {\n",
       "        vertical-align: top;\n",
       "    }\n",
       "\n",
       "    .dataframe thead th {\n",
       "        text-align: right;\n",
       "    }\n",
       "</style>\n",
       "<table border=\"1\" class=\"dataframe\">\n",
       "  <thead>\n",
       "    <tr style=\"text-align: right;\">\n",
       "      <th></th>\n",
       "      <th>source</th>\n",
       "      <th>target</th>\n",
       "      <th>weight</th>\n",
       "    </tr>\n",
       "  </thead>\n",
       "  <tbody>\n",
       "    <tr>\n",
       "      <th>0</th>\n",
       "      <td>0</td>\n",
       "      <td>2</td>\n",
       "      <td>0.500000</td>\n",
       "    </tr>\n",
       "    <tr>\n",
       "      <th>1</th>\n",
       "      <td>0</td>\n",
       "      <td>4</td>\n",
       "      <td>0.353553</td>\n",
       "    </tr>\n",
       "    <tr>\n",
       "      <th>2</th>\n",
       "      <td>0</td>\n",
       "      <td>5</td>\n",
       "      <td>0.500000</td>\n",
       "    </tr>\n",
       "    <tr>\n",
       "      <th>3</th>\n",
       "      <td>0</td>\n",
       "      <td>12</td>\n",
       "      <td>0.258199</td>\n",
       "    </tr>\n",
       "    <tr>\n",
       "      <th>4</th>\n",
       "      <td>0</td>\n",
       "      <td>27</td>\n",
       "      <td>0.577350</td>\n",
       "    </tr>\n",
       "    <tr>\n",
       "      <th>...</th>\n",
       "      <td>...</td>\n",
       "      <td>...</td>\n",
       "      <td>...</td>\n",
       "    </tr>\n",
       "    <tr>\n",
       "      <th>179547</th>\n",
       "      <td>6117</td>\n",
       "      <td>6118</td>\n",
       "      <td>1.000000</td>\n",
       "    </tr>\n",
       "    <tr>\n",
       "      <th>179548</th>\n",
       "      <td>6135</td>\n",
       "      <td>6137</td>\n",
       "      <td>1.000000</td>\n",
       "    </tr>\n",
       "    <tr>\n",
       "      <th>179549</th>\n",
       "      <td>6142</td>\n",
       "      <td>6144</td>\n",
       "      <td>0.707107</td>\n",
       "    </tr>\n",
       "    <tr>\n",
       "      <th>179550</th>\n",
       "      <td>6148</td>\n",
       "      <td>6150</td>\n",
       "      <td>1.000000</td>\n",
       "    </tr>\n",
       "    <tr>\n",
       "      <th>179551</th>\n",
       "      <td>6151</td>\n",
       "      <td>6153</td>\n",
       "      <td>1.000000</td>\n",
       "    </tr>\n",
       "  </tbody>\n",
       "</table>\n",
       "<p>179552 rows × 3 columns</p>\n",
       "</div>"
      ],
      "text/plain": [
       "        source  target    weight\n",
       "0            0       2  0.500000\n",
       "1            0       4  0.353553\n",
       "2            0       5  0.500000\n",
       "3            0      12  0.258199\n",
       "4            0      27  0.577350\n",
       "...        ...     ...       ...\n",
       "179547    6117    6118  1.000000\n",
       "179548    6135    6137  1.000000\n",
       "179549    6142    6144  0.707107\n",
       "179550    6148    6150  1.000000\n",
       "179551    6151    6153  1.000000\n",
       "\n",
       "[179552 rows x 3 columns]"
      ]
     },
     "execution_count": 7,
     "metadata": {},
     "output_type": "execute_result"
    }
   ],
   "source": [
    "graph_to_edges_dataframe(m)"
   ]
  },
  {
   "cell_type": "code",
   "execution_count": 8,
   "id": "3434f493-b8d5-48f1-ab2f-9a3276b27af6",
   "metadata": {},
   "outputs": [
    {
     "data": {
      "application/vnd.jupyter.widget-view+json": {
       "model_id": "45f4c1364f354f36983e94e738e89762",
       "version_major": 2,
       "version_minor": 0
      },
      "text/plain": [
       "Sigma(nx.Graph with 4,175 nodes and 179,552 edges)"
      ]
     },
     "execution_count": 8,
     "metadata": {},
     "output_type": "execute_result"
    }
   ],
   "source": [
    "Sigma(\n",
    "    m,\n",
    "    node_size=m.degree,\n",
    "    node_size_range=(3, 10),\n",
    "    node_borders=True,\n",
    "    default_node_border_color='black'\n",
    ")"
   ]
  },
  {
   "cell_type": "code",
   "execution_count": 9,
   "id": "7781ce21-2d04-43a3-9eb4-aacd21e8a0ee",
   "metadata": {},
   "outputs": [],
   "source": [
    "n = global_threshold_sparsification(m, 0.5, keep_connected=True)"
   ]
  },
  {
   "cell_type": "code",
   "execution_count": 10,
   "id": "659895ee-f7bb-4431-a959-f5de5e6491a7",
   "metadata": {},
   "outputs": [
    {
     "data": {
      "application/vnd.jupyter.widget-view+json": {
       "model_id": "d8d23f3742514c059dd5c3687a184c6e",
       "version_major": 2,
       "version_minor": 0
      },
      "text/plain": [
       "Sigma(nx.Graph with 4,175 nodes and 70,756 edges)"
      ]
     },
     "execution_count": 10,
     "metadata": {},
     "output_type": "execute_result"
    }
   ],
   "source": [
    "Sigma(\n",
    "    n,\n",
    "    node_size=m.degree,\n",
    "    node_size_range=(3, 10),\n",
    "    node_borders=True,\n",
    "    default_node_border_color='black'\n",
    ")"
   ]
  },
  {
   "cell_type": "code",
   "execution_count": 11,
   "id": "8da23c44-fe06-42b1-93ee-c6d8b53065f2",
   "metadata": {},
   "outputs": [],
   "source": [
    "o = multiscale_backbone(m,keep_connected=True)"
   ]
  },
  {
   "cell_type": "code",
   "execution_count": 12,
   "id": "bbf515ab-16c1-4bdd-943b-b9369153599a",
   "metadata": {},
   "outputs": [
    {
     "data": {
      "application/vnd.jupyter.widget-view+json": {
       "model_id": "de5339e10eca4e8b95f41ef1f60aff23",
       "version_major": 2,
       "version_minor": 0
      },
      "text/plain": [
       "Sigma(nx.Graph with 4,175 nodes and 17,178 edges)"
      ]
     },
     "execution_count": 12,
     "metadata": {},
     "output_type": "execute_result"
    }
   ],
   "source": [
    "Sigma(\n",
    "    o,\n",
    "    node_size=m.degree,\n",
    "    node_size_range=(3, 10),\n",
    "    node_borders=True,\n",
    "    default_node_border_color='black'\n",
    ")"
   ]
  },
  {
   "cell_type": "code",
   "execution_count": 13,
   "id": "3075d2a6-4409-4769-a96d-d68a0ce483ae",
   "metadata": {},
   "outputs": [],
   "source": [
    "sparsifier = SimmelianBackboneSparsifier(5, 2, keep_connected=True)\n",
    "relevant = list(sparsifier.relevant_edges(m))"
   ]
  },
  {
   "cell_type": "code",
   "execution_count": 14,
   "id": "168dd353-f5e2-414a-9d2e-094e1df6c8a2",
   "metadata": {},
   "outputs": [],
   "source": [
    "for u, v, a in m.edges.data():\n",
    "    a['relevant'] = False\n",
    "\n",
    "for edge in relevant:\n",
    "    m.edges[edge[0], edge[1]]['relevant'] = True\n",
    "\n",
    "for u, v, a in m.edges.data():\n",
    "    if not a['relevant']:\n",
    "        a['weight'] = 0"
   ]
  },
  {
   "cell_type": "code",
   "execution_count": 15,
   "id": "5a667f94-cffd-42f6-aa60-e2b77efe6183",
   "metadata": {},
   "outputs": [
    {
     "data": {
      "text/html": [
       "<div>\n",
       "<style scoped>\n",
       "    .dataframe tbody tr th:only-of-type {\n",
       "        vertical-align: middle;\n",
       "    }\n",
       "\n",
       "    .dataframe tbody tr th {\n",
       "        vertical-align: top;\n",
       "    }\n",
       "\n",
       "    .dataframe thead th {\n",
       "        text-align: right;\n",
       "    }\n",
       "</style>\n",
       "<table border=\"1\" class=\"dataframe\">\n",
       "  <thead>\n",
       "    <tr style=\"text-align: right;\">\n",
       "      <th></th>\n",
       "      <th>source</th>\n",
       "      <th>target</th>\n",
       "      <th>weight</th>\n",
       "      <th>relevant</th>\n",
       "    </tr>\n",
       "  </thead>\n",
       "  <tbody>\n",
       "    <tr>\n",
       "      <th>0</th>\n",
       "      <td>0</td>\n",
       "      <td>2</td>\n",
       "      <td>0.500000</td>\n",
       "      <td>True</td>\n",
       "    </tr>\n",
       "    <tr>\n",
       "      <th>1</th>\n",
       "      <td>0</td>\n",
       "      <td>4</td>\n",
       "      <td>0.000000</td>\n",
       "      <td>False</td>\n",
       "    </tr>\n",
       "    <tr>\n",
       "      <th>2</th>\n",
       "      <td>0</td>\n",
       "      <td>5</td>\n",
       "      <td>0.500000</td>\n",
       "      <td>True</td>\n",
       "    </tr>\n",
       "    <tr>\n",
       "      <th>3</th>\n",
       "      <td>0</td>\n",
       "      <td>12</td>\n",
       "      <td>0.000000</td>\n",
       "      <td>False</td>\n",
       "    </tr>\n",
       "    <tr>\n",
       "      <th>4</th>\n",
       "      <td>0</td>\n",
       "      <td>27</td>\n",
       "      <td>0.577350</td>\n",
       "      <td>True</td>\n",
       "    </tr>\n",
       "    <tr>\n",
       "      <th>...</th>\n",
       "      <td>...</td>\n",
       "      <td>...</td>\n",
       "      <td>...</td>\n",
       "      <td>...</td>\n",
       "    </tr>\n",
       "    <tr>\n",
       "      <th>179547</th>\n",
       "      <td>6117</td>\n",
       "      <td>6118</td>\n",
       "      <td>1.000000</td>\n",
       "      <td>True</td>\n",
       "    </tr>\n",
       "    <tr>\n",
       "      <th>179548</th>\n",
       "      <td>6135</td>\n",
       "      <td>6137</td>\n",
       "      <td>1.000000</td>\n",
       "      <td>True</td>\n",
       "    </tr>\n",
       "    <tr>\n",
       "      <th>179549</th>\n",
       "      <td>6142</td>\n",
       "      <td>6144</td>\n",
       "      <td>0.707107</td>\n",
       "      <td>True</td>\n",
       "    </tr>\n",
       "    <tr>\n",
       "      <th>179550</th>\n",
       "      <td>6148</td>\n",
       "      <td>6150</td>\n",
       "      <td>1.000000</td>\n",
       "      <td>True</td>\n",
       "    </tr>\n",
       "    <tr>\n",
       "      <th>179551</th>\n",
       "      <td>6151</td>\n",
       "      <td>6153</td>\n",
       "      <td>1.000000</td>\n",
       "      <td>True</td>\n",
       "    </tr>\n",
       "  </tbody>\n",
       "</table>\n",
       "<p>179552 rows × 4 columns</p>\n",
       "</div>"
      ],
      "text/plain": [
       "        source  target    weight  relevant\n",
       "0            0       2  0.500000      True\n",
       "1            0       4  0.000000     False\n",
       "2            0       5  0.500000      True\n",
       "3            0      12  0.000000     False\n",
       "4            0      27  0.577350      True\n",
       "...        ...     ...       ...       ...\n",
       "179547    6117    6118  1.000000      True\n",
       "179548    6135    6137  1.000000      True\n",
       "179549    6142    6144  0.707107      True\n",
       "179550    6148    6150  1.000000      True\n",
       "179551    6151    6153  1.000000      True\n",
       "\n",
       "[179552 rows x 4 columns]"
      ]
     },
     "execution_count": 15,
     "metadata": {},
     "output_type": "execute_result"
    }
   ],
   "source": [
    "graph_to_edges_dataframe(m)"
   ]
  },
  {
   "cell_type": "code",
   "execution_count": 16,
   "id": "9fd80674-0bb0-42e5-aaf5-ecbee7e16654",
   "metadata": {},
   "outputs": [
    {
     "data": {
      "application/vnd.jupyter.widget-view+json": {
       "model_id": "90835f9ba39745a99a8fc14376bc1e01",
       "version_major": 2,
       "version_minor": 0
      },
      "text/plain": [
       "Sigma(nx.Graph with 4,175 nodes and 179,552 edges)"
      ]
     },
     "execution_count": 16,
     "metadata": {},
     "output_type": "execute_result"
    }
   ],
   "source": [
    "Sigma(\n",
    "    m,\n",
    "    node_size=m.degree,\n",
    "    node_size_range=(3, 10),\n",
    "    edge_color='relevant',\n",
    "    edge_color_palette={True:'black', False:'#ccc'},\n",
    "    node_borders=True,\n",
    "    default_node_border_color='black',\n",
    "    edge_zindex=lambda u,v,a:  1 if a['relevant']==True else 0,\n",
    "    edge_size_range=0.5,\n",
    "    layout_settings={\"weightedMass\": True}\n",
    ")"
   ]
  },
  {
   "cell_type": "code",
   "execution_count": 17,
   "id": "65ce5670-b87c-4ccd-bc91-7bda9b9d3772",
   "metadata": {},
   "outputs": [],
   "source": [
    "fb = read_graphology_json('../data/socfb.json')"
   ]
  },
  {
   "cell_type": "code",
   "execution_count": 18,
   "id": "6c73f8ec-6e3a-4964-94c5-b03cc6786d79",
   "metadata": {},
   "outputs": [
    {
     "data": {
      "application/vnd.jupyter.widget-view+json": {
       "model_id": "e1c03502339c41d18e69330a876a7c89",
       "version_major": 2,
       "version_minor": 0
      },
      "text/plain": [
       "Sigma(nx.Graph with 769 nodes and 16,656 edges)"
      ]
     },
     "execution_count": 18,
     "metadata": {},
     "output_type": "execute_result"
    }
   ],
   "source": [
    "Sigma(fb)"
   ]
  },
  {
   "cell_type": "code",
   "execution_count": 19,
   "id": "6beb4e40-52ce-44f8-bc51-a6c299e7dc55",
   "metadata": {},
   "outputs": [],
   "source": [
    "sparsifier = SimmelianBackboneSparsifier(10, 5, in_or_out_edge=\"out\", reciprocity=True)\n",
    "relevant = list(sparsifier.relevant_edges(fb))\n",
    "for u, v, a in fb.edges.data():\n",
    "    a['relevant'] = False\n",
    "\n",
    "for edge in relevant:\n",
    "    fb.edges[edge[0], edge[1]]['relevant'] = True\n",
    "\n",
    "for u, v, a in fb.edges.data():\n",
    "    if not a['relevant']:\n",
    "        a['weight'] = 0"
   ]
  },
  {
   "cell_type": "code",
   "execution_count": 20,
   "id": "c521de3a-6173-4450-947e-23d74a00fdae",
   "metadata": {},
   "outputs": [
    {
     "data": {
      "application/vnd.jupyter.widget-view+json": {
       "model_id": "ff18e48ab20a4ed5bee58032754f2616",
       "version_major": 2,
       "version_minor": 0
      },
      "text/plain": [
       "Sigma(nx.Graph with 769 nodes and 16,656 edges)"
      ]
     },
     "execution_count": 20,
     "metadata": {},
     "output_type": "execute_result"
    }
   ],
   "source": [
    "Sigma(\n",
    "    fb,\n",
    "    node_size=fb.degree,\n",
    "    node_size_range=(3, 10),\n",
    "    edge_color='relevant',\n",
    "    edge_color_palette={True:'black', False:'#ccc'},\n",
    "    node_borders=True,\n",
    "    default_node_border_color='black',\n",
    "    edge_zindex=lambda u,v,a:  1 if a['relevant']==True else 0,\n",
    "    edge_size_range=0.5,\n",
    "    layout_settings={\"weightedMass\": True}\n",
    ")"
   ]
  },
  {
   "cell_type": "code",
   "execution_count": 21,
   "id": "c4e8c007-c622-4acd-8fdd-94d21e3b3350",
   "metadata": {},
   "outputs": [],
   "source": [
    "sparse = sparsifier(fb)"
   ]
  },
  {
   "cell_type": "code",
   "execution_count": 22,
   "id": "95e54d28-f7ab-4fda-9b53-9250a5fad36b",
   "metadata": {},
   "outputs": [
    {
     "data": {
      "application/vnd.jupyter.widget-view+json": {
       "model_id": "ff4899c605c74af9bfcdaaff94a64575",
       "version_major": 2,
       "version_minor": 0
      },
      "text/plain": [
       "Sigma(nx.Graph with 769 nodes and 5,539 edges)"
      ]
     },
     "execution_count": 22,
     "metadata": {},
     "output_type": "execute_result"
    }
   ],
   "source": [
    "Sigma(\n",
    "    sparse,\n",
    "    node_size=sparse.degree,\n",
    "    node_size_range=(3, 10),\n",
    "    edge_color='relevant',\n",
    "    edge_color_palette={True:'black', False:'#ccc'},\n",
    "    node_borders=True,\n",
    "    default_node_border_color='black',\n",
    "    edge_zindex=lambda u,v,a:  1 if a['relevant']==True else 0,\n",
    "    edge_size_range=0.5,\n",
    "    layout_settings={\"weightedMass\": True}\n",
    ")"
   ]
  },
  {
   "cell_type": "code",
   "execution_count": null,
   "id": "87104982-0431-4486-bc79-8289e8b420c9",
   "metadata": {},
   "outputs": [],
   "source": []
  }
 ],
 "metadata": {
  "kernelspec": {
   "display_name": "Python 3 (ipykernel)",
   "language": "python",
   "name": "python3"
  },
  "language_info": {
   "codemirror_mode": {
    "name": "ipython",
    "version": 3
   },
   "file_extension": ".py",
   "mimetype": "text/x-python",
   "name": "python",
   "nbconvert_exporter": "python",
   "pygments_lexer": "ipython3",
   "version": "3.8.13"
  }
 },
 "nbformat": 4,
 "nbformat_minor": 5
}
