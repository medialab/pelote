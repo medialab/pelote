{
 "cells": [
  {
   "cell_type": "code",
   "execution_count": 1,
   "id": "ef383226-f0c2-4f53-bfb4-7e1ffd703724",
   "metadata": {},
   "outputs": [],
   "source": [
    "# Some path wizardry to make python acknowledge relative paths, just ignore this part...\n",
    "import sys; sys.path.append('..')\n",
    "import networkx as nx\n",
    "import pandas as pd\n",
    "from ipysigma import Sigma\n",
    "from pelote import to_nodes_dataframe, to_bipartite_graph, monopartite_projection, to_edges_dataframe"
   ]
  },
  {
   "cell_type": "code",
   "execution_count": 2,
   "id": "19a8b67a-eed7-4823-927c-994661fe1a18",
   "metadata": {},
   "outputs": [
    {
     "data": {
      "text/html": [
       "<div>\n",
       "<style scoped>\n",
       "    .dataframe tbody tr th:only-of-type {\n",
       "        vertical-align: middle;\n",
       "    }\n",
       "\n",
       "    .dataframe tbody tr th {\n",
       "        vertical-align: top;\n",
       "    }\n",
       "\n",
       "    .dataframe thead th {\n",
       "        text-align: right;\n",
       "    }\n",
       "</style>\n",
       "<table border=\"1\" class=\"dataframe\">\n",
       "  <thead>\n",
       "    <tr style=\"text-align: right;\">\n",
       "      <th></th>\n",
       "      <th>account</th>\n",
       "      <th>url</th>\n",
       "      <th>weight</th>\n",
       "    </tr>\n",
       "  </thead>\n",
       "  <tbody>\n",
       "    <tr>\n",
       "      <th>0</th>\n",
       "      <td>0</td>\n",
       "      <td>0</td>\n",
       "      <td>1</td>\n",
       "    </tr>\n",
       "    <tr>\n",
       "      <th>1</th>\n",
       "      <td>1</td>\n",
       "      <td>0</td>\n",
       "      <td>7</td>\n",
       "    </tr>\n",
       "    <tr>\n",
       "      <th>2</th>\n",
       "      <td>2</td>\n",
       "      <td>0</td>\n",
       "      <td>38</td>\n",
       "    </tr>\n",
       "    <tr>\n",
       "      <th>3</th>\n",
       "      <td>3</td>\n",
       "      <td>0</td>\n",
       "      <td>23</td>\n",
       "    </tr>\n",
       "    <tr>\n",
       "      <th>4</th>\n",
       "      <td>4</td>\n",
       "      <td>0</td>\n",
       "      <td>27</td>\n",
       "    </tr>\n",
       "    <tr>\n",
       "      <th>...</th>\n",
       "      <td>...</td>\n",
       "      <td>...</td>\n",
       "      <td>...</td>\n",
       "    </tr>\n",
       "    <tr>\n",
       "      <th>9350</th>\n",
       "      <td>347</td>\n",
       "      <td>793</td>\n",
       "      <td>25</td>\n",
       "    </tr>\n",
       "    <tr>\n",
       "      <th>9351</th>\n",
       "      <td>204</td>\n",
       "      <td>793</td>\n",
       "      <td>26</td>\n",
       "    </tr>\n",
       "    <tr>\n",
       "      <th>9352</th>\n",
       "      <td>1176</td>\n",
       "      <td>794</td>\n",
       "      <td>16</td>\n",
       "    </tr>\n",
       "    <tr>\n",
       "      <th>9353</th>\n",
       "      <td>308</td>\n",
       "      <td>795</td>\n",
       "      <td>7</td>\n",
       "    </tr>\n",
       "    <tr>\n",
       "      <th>9354</th>\n",
       "      <td>943</td>\n",
       "      <td>796</td>\n",
       "      <td>28</td>\n",
       "    </tr>\n",
       "  </tbody>\n",
       "</table>\n",
       "<p>9355 rows × 3 columns</p>\n",
       "</div>"
      ],
      "text/plain": [
       "      account  url  weight\n",
       "0           0    0       1\n",
       "1           1    0       7\n",
       "2           2    0      38\n",
       "3           3    0      23\n",
       "4           4    0      27\n",
       "...       ...  ...     ...\n",
       "9350      347  793      25\n",
       "9351      204  793      26\n",
       "9352     1176  794      16\n",
       "9353      308  795       7\n",
       "9354      943  796      28\n",
       "\n",
       "[9355 rows x 3 columns]"
      ]
     },
     "execution_count": 2,
     "metadata": {},
     "output_type": "execute_result"
    }
   ],
   "source": [
    "df = pd.read_csv('./data/bipartite.csv')\n",
    "df"
   ]
  },
  {
   "cell_type": "code",
   "execution_count": 3,
   "id": "905bf226-ff78-4db0-a029-de69aec2e97c",
   "metadata": {},
   "outputs": [],
   "source": [
    "g = to_bipartite_graph(df, 'account', 'url')"
   ]
  },
  {
   "cell_type": "code",
   "execution_count": 8,
   "id": "f7aa1d3a-316c-48fd-b3fa-458794be0ca4",
   "metadata": {},
   "outputs": [],
   "source": [
    "m = monopartite_projection(g, 'account', metric='cosine')"
   ]
  },
  {
   "cell_type": "code",
   "execution_count": 9,
   "id": "61d046ff-2acb-4d5e-a0eb-750dbddf3a54",
   "metadata": {},
   "outputs": [
    {
     "data": {
      "text/plain": [
       "0.16131565215817462"
      ]
     },
     "execution_count": 9,
     "metadata": {},
     "output_type": "execute_result"
    }
   ],
   "source": [
    "to_edges_dataframe(m)['weight'].mean()"
   ]
  }
 ],
 "metadata": {
  "kernelspec": {
   "display_name": "Python 3",
   "language": "python",
   "name": "python3"
  },
  "language_info": {
   "codemirror_mode": {
    "name": "ipython",
    "version": 3
   },
   "file_extension": ".py",
   "mimetype": "text/x-python",
   "name": "python",
   "nbconvert_exporter": "python",
   "pygments_lexer": "ipython3",
   "version": "3.6.10"
  }
 },
 "nbformat": 4,
 "nbformat_minor": 5
}
