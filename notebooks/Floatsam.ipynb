{
 "cells": [
  {
   "cell_type": "markdown",
   "id": "a1847e32-b243-4e04-9ad2-461515db22ef",
   "metadata": {},
   "source": [
    "# Floatsam test"
   ]
  },
  {
   "cell_type": "code",
   "execution_count": 1,
   "id": "c6b6f1b6-a0ec-4161-aee7-ee47ef843869",
   "metadata": {},
   "outputs": [],
   "source": [
    "# Some path wizardry to make python acknowledge relative paths, just ignore this part...\n",
    "import sys; sys.path.append('..')\n",
    "import csv\n",
    "import networkx as nx\n",
    "from ipysigma import Sigma\n",
    "from pelote import (\n",
    "    table_to_bipartite_graph,\n",
    "    graph_to_edges_dataframe,\n",
    "    graph_to_nodes_dataframe,\n",
    "    monopartite_projection,\n",
    "    connected_component_sizes,\n",
    "    crop_to_largest_connected_component,\n",
    "    remove_edges,\n",
    "    floatsam\n",
    ")"
   ]
  },
  {
   "cell_type": "code",
   "execution_count": 2,
   "id": "5e194d16-5917-490d-b12c-eb98a5307280",
   "metadata": {},
   "outputs": [],
   "source": [
    "with open('./data/bipartite.csv') as f:\n",
    "    bipartite = table_to_bipartite_graph(csv.DictReader(f), 'account', 'url')"
   ]
  },
  {
   "cell_type": "code",
   "execution_count": 3,
   "id": "1c693ebf-39fa-42dc-a079-688e928c495d",
   "metadata": {},
   "outputs": [],
   "source": [
    "graph = monopartite_projection(bipartite, 'account', metric='cosine')"
   ]
  },
  {
   "cell_type": "code",
   "execution_count": 4,
   "id": "f7174176-bce7-49d4-8f2b-fe044a66ddb6",
   "metadata": {},
   "outputs": [
    {
     "data": {
      "text/plain": [
       "95713"
      ]
     },
     "execution_count": 4,
     "metadata": {},
     "output_type": "execute_result"
    }
   ],
   "source": [
    "graph.size()"
   ]
  },
  {
   "cell_type": "code",
   "execution_count": 5,
   "id": "6da053dc-672f-483f-a2b2-355ee720aef7",
   "metadata": {},
   "outputs": [
    {
     "data": {
      "text/plain": [
       "<AxesSubplot:ylabel='Frequency'>"
      ]
     },
     "execution_count": 5,
     "metadata": {},
     "output_type": "execute_result"
    },
    {
     "data": {
      "image/png": "[encoded data removed]",
      "text/plain": [
       "<Figure size 432x288 with 1 Axes>"
      ]
     },
     "metadata": {
      "needs_background": "light"
     },
     "output_type": "display_data"
    }
   ],
   "source": [
    "graph_to_edges_dataframe(graph).weight.plot.hist()"
   ]
  },
  {
   "cell_type": "code",
   "execution_count": 6,
   "id": "4bfbdaa8-c5ef-4ff3-a8ee-0675032acdd2",
   "metadata": {},
   "outputs": [
    {
     "data": {
      "text/plain": [
       "0.3300000000000001"
      ]
     },
     "execution_count": 6,
     "metadata": {},
     "output_type": "execute_result"
    }
   ],
   "source": [
    "threshold = floatsam(graph)\n",
    "threshold"
   ]
  },
  {
   "cell_type": "code",
   "execution_count": 7,
   "id": "292587d2-630c-45ba-b6fe-9bed83b921e8",
   "metadata": {},
   "outputs": [],
   "source": [
    "remove_edges(graph, lambda u, v, a: a['weight'] >= threshold)\n",
    "crop_to_largest_connected_component(graph)"
   ]
  },
  {
   "cell_type": "code",
   "execution_count": 12,
   "id": "170e9a63-a2ea-44b4-80ad-59bdeb729c83",
   "metadata": {},
   "outputs": [
    {
     "data": {
      "text/plain": [
       "4422"
      ]
     },
     "execution_count": 12,
     "metadata": {},
     "output_type": "execute_result"
    }
   ],
   "source": [
    "graph.size()"
   ]
  }
 ],
 "metadata": {
  "kernelspec": {
   "display_name": "Python 3",
   "language": "python",
   "name": "python3"
  },
  "language_info": {
   "codemirror_mode": {
    "name": "ipython",
    "version": 3
   },
   "file_extension": ".py",
   "mimetype": "text/x-python",
   "name": "python",
   "nbconvert_exporter": "python",
   "pygments_lexer": "ipython3",
   "version": "3.6.12"
  }
 },
 "nbformat": 4,
 "nbformat_minor": 5
}
